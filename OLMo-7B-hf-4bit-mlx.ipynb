{
 "cells": [
  {
   "cell_type": "code",
   "execution_count": 10,
   "id": "e6ab51f4-b3d5-4b3b-bdda-95a69b4c24a5",
   "metadata": {},
   "outputs": [
    {
     "name": "stderr",
     "output_type": "stream",
     "text": [
      "Fetching 9 files: 100%|█████████████████████████| 9/9 [00:00<00:00, 64749.12it/s]\n"
     ]
    },
    {
     "name": "stdout",
     "output_type": "stream",
     "text": [
      "==========\n",
      "Prompt: python program to print a hierarchical list of folders and their size. start with the pwd and go deeper until done\n",
      ".\n",
      "\n",
      "```python\n",
      "import shutil\n",
      "import glob\n",
      "import arg\n",
      "\n",
      "def main():\n",
      "    for path, dirs, files in glob.walk('.'):\n",
      "        for file in files:\n",
      "            if file.ends with('.py'):\n",
      "                continue\n",
      "            if file.ends with('.pyc'):\n",
      "                continue\n",
      "            if file.ends with('.pyo'):\n",
      "                continue\n",
      "            if file.ends with('.so'):\n",
      "                continue\n",
      "            if\n",
      "==========\n",
      "Prompt: 80.624 tokens-per-sec\n",
      "Generation: 29.010 tokens-per-sec\n"
     ]
    }
   ],
   "source": [
    "from mlx_lm import load, generate\n",
    "\n",
    "model, tokenizer = load(\"mlx-community/OLMo-7B-hf-4bit-mlx\")\n",
    "#response = generate(model, tokenizer, prompt=\"hello\", verbose=True)\n",
    "response = generate(model, tokenizer, prompt=\"python program to print a hierarchical list of folders and their size. start with the pwd and go deeper until done\", verbose=True)"
   ]
  },
  {
   "cell_type": "code",
   "execution_count": null,
   "id": "2179383c-4177-4e61-878a-1d0cd8c6dd8d",
   "metadata": {},
   "outputs": [],
   "source": []
  }
 ],
 "metadata": {
  "kernelspec": {
   "display_name": "Python 3 (ipykernel)",
   "language": "python",
   "name": "python3"
  },
  "language_info": {
   "codemirror_mode": {
    "name": "ipython",
    "version": 3
   },
   "file_extension": ".py",
   "mimetype": "text/x-python",
   "name": "python",
   "nbconvert_exporter": "python",
   "pygments_lexer": "ipython3",
   "version": "3.11.7"
  }
 },
 "nbformat": 4,
 "nbformat_minor": 5
}
